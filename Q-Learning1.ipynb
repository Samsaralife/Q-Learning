{
 "cells": [
  {
   "cell_type": "code",
   "execution_count": 1,
   "metadata": {},
   "outputs": [],
   "source": [
    "import numpy as np\n",
    "import pandas as pd"
   ]
  },
  {
   "cell_type": "code",
   "execution_count": 3,
   "metadata": {},
   "outputs": [],
   "source": [
    "class QLearningTable:\n",
    "    def __init__(self,actions,learning_rate=0.01,reward_decay=0.9,e_greedy=0.9):\n",
    "        self.actions = actions\n",
    "        self.lr = learning_rate\n",
    "        self.gamma = reward_decay\n",
    "        self.epsilon = e_greedy\n",
    "        self.q_table = pd.DataFrame(columns=self.actions)\n",
    "    def choose_action(self,observation):\n",
    "        self.check_state_exist(observation)\n",
    "        #action selection\n",
    "        if np.random.uniform() < self.epsilon:\n",
    "            #choose best action\n",
    "            state_action = self.q_table.ix[observation,:]\n",
    "            state_action = state_action.reindex(np.random.permutation(state_action.index))\n",
    "            action = state_action.argmax()\n",
    "        else:\n",
    "            # choose random action\n",
    "            action = np.random.choice(self.actions)\n",
    "        return action\n",
    "    def learn(self,state,action,reward,next_state):\n",
    "        self.check_state_exist(next_state)\n",
    "        q_predict = self.q_table.ix[state,action]\n",
    "        if next_state != 'terminated':\n",
    "            q_target = reward + self.gamma * self.q_table.ix[next_state,:].max() # next state\n",
    "        else:\n",
    "            q_target = reward\n",
    "        self.q_table.ix[state,action] += self.lr * (q_target - q_predict) # update\n",
    "    def check_state_exist(self,state):\n",
    "        \n",
    "        if state not in self.q_table.index:\n",
    "            # append new state to q table\n",
    "            self.q_table = self.q_table.append(pd.Series([0]*len(self.actions),index=self.q_table.columns,name=state,))\n",
    "            "
   ]
  },
  {
   "cell_type": "code",
   "execution_count": null,
   "metadata": {},
   "outputs": [],
   "source": []
  }
 ],
 "metadata": {
  "kernelspec": {
   "display_name": "Python 3",
   "language": "python",
   "name": "python3"
  },
  "language_info": {
   "codemirror_mode": {
    "name": "ipython",
    "version": 3
   },
   "file_extension": ".py",
   "mimetype": "text/x-python",
   "name": "python",
   "nbconvert_exporter": "python",
   "pygments_lexer": "ipython3",
   "version": "3.7.3"
  }
 },
 "nbformat": 4,
 "nbformat_minor": 2
}
