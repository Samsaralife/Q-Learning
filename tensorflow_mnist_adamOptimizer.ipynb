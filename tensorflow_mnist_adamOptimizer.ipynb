{
 "cells": [
  {
   "cell_type": "code",
   "execution_count": 1,
   "metadata": {},
   "outputs": [],
   "source": [
    "import tensorflow as tf\n",
    "from tensorflow.examples.tutorials.mnist import input_data"
   ]
  },
  {
   "cell_type": "code",
   "execution_count": 1,
   "metadata": {},
   "outputs": [
    {
     "ename": "SyntaxError",
     "evalue": "invalid syntax (<ipython-input-1-e165fbc300be>, line 6)",
     "output_type": "error",
     "traceback": [
      "\u001b[0;36m  File \u001b[0;32m\"<ipython-input-1-e165fbc300be>\"\u001b[0;36m, line \u001b[0;32m6\u001b[0m\n\u001b[0;31m    with tf.name_scope 'input':\u001b[0m\n\u001b[0m                             ^\u001b[0m\n\u001b[0;31mSyntaxError\u001b[0m\u001b[0;31m:\u001b[0m invalid syntax\n"
     ]
    }
   ],
   "source": [
    "mnist  = input_data.read_data_sets('/Users/wangyingbo/Downloads/mnist',one_hot = True)\n",
    "#\n",
    "batch_size = 100\n",
    "total_batch = mnist.train.num_examples // batch_size\n",
    "#命名空间\n",
    "with tf.name_scope 'input':\n",
    "    x = tf.placeholder(tf.float32,[None,784],name='x-input') #训练数据\n",
    "    y = tf.placeholder(tf.float32,[None,10],name='y-input')  #训练结果\n",
    "\n",
    "weight1 = tf.Variable(tf.random_normal([784,500],stddev=0.1))  #权值\n",
    "biase1 = tf.Variable(tf.zeros([500]) + 0.01)  #偏差\n",
    "keep_prob = tf.placeholder(tf.float32)  #是否采用全连接的方式\n",
    "lr = tf.Variable(0.01,dtype=tf.float32)\n",
    "L1 = tf.nn.tanh(tf.matmul(x,weight1)+biase1) #采用双矩阵切函数将线性函数转换为非线性函数\n",
    "L1_dropout = tf.nn.dropout(L1,keep_prob)\n",
    "\n",
    "#同上述\n",
    "weight2 = tf.Variable(tf.truncated_normal([500,300],stddev=0.1)) \n",
    "biase2 = tf.Variable(tf.zeros([300])+0.01)\n",
    "L2 = tf.nn.tanh(tf.matmul(L1_dropout,weight2)+biase2)\n",
    "L2_dropout = tf.nn.dropout(L2,keep_prob)\n",
    "\n",
    "weight3 = tf.Variable(tf.truncated_normal([300,10],stddev=0.1))\n",
    "biase3 = tf.Variable(tf.zeros([10]) + 0.01)\n",
    "prediction = tf.nn.softmax(tf.matmul(L2_dropout,weight3) + biase3 )\n",
    "\n",
    "#交叉熵损失函数\n",
    "loss = tf.reduce_mean(tf.nn.softmax_cross_entropy_with_logits(labels=y,logits=prediction))\n",
    "#训练函数\n",
    "train_step = tf.train.AdamOptimizer(lr).minimize(loss)\n",
    "#全局变量初始化\n",
    "init = tf.global_variables_initializer()\n",
    "#结果存放在一个boolean变量中\n",
    "correct_prediction = tf.equal(tf.argmax(y,1),tf.argmax(prediction))\n",
    "#准确率\n",
    "accuracy = tf.reduce_mean(tf.cast(correct_prediction,tf.float32)) \n",
    "\n",
    "with tf.Session() as sess:\n",
    "    sess.run(init)\n",
    "    writer = tf.summary.FileWriter('logs/',sess.graph)\n",
    "    for epoch in range(51):\n",
    "        sess.run(tf.assign(lr,0.001 * (0.95 ** epoch)))\n",
    "        for  batch in range(total_batch):\n",
    "            batch_xs,batch_ys = mnist.train.next_batch(batch_size)\n",
    "            sess.run(train_step,feed_dict={x:batch_xs,y:batch_ys,keep_prob:1.0})\n",
    "        learn_rate = sess.run(lr)\n",
    "        acc = sess.run(accuracy,feed_dict={x:mnist.test.images,y:mnist.test.labels,keep_prob:1.0})\n",
    "        #acc = sess.run(accuracy,feed_dict={x:mnist.test.images,y:mnist.test.labels})\n",
    "        print('Iteration:' + str(epoch) + ',Testing Accuracy = ' + str(acc) + ',Learning Rate = ' + str(learn_rate))"
   ]
  },
  {
   "cell_type": "code",
   "execution_count": null,
   "metadata": {},
   "outputs": [],
   "source": []
  }
 ],
 "metadata": {
  "kernelspec": {
   "display_name": "Python 3",
   "language": "python",
   "name": "python3"
  },
  "language_info": {
   "codemirror_mode": {
    "name": "ipython",
    "version": 3
   },
   "file_extension": ".py",
   "mimetype": "text/x-python",
   "name": "python",
   "nbconvert_exporter": "python",
   "pygments_lexer": "ipython3",
   "version": "3.7.3"
  }
 },
 "nbformat": 4,
 "nbformat_minor": 2
}
