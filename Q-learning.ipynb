{
 "cells": [
  {
   "cell_type": "code",
   "execution_count": null,
   "metadata": {},
   "outputs": [],
   "source": [
    "import numpy as np\n",
    "import pandas as pd\n",
    "import time"
   ]
  },
  {
   "cell_type": "code",
   "execution_count": 20,
   "metadata": {},
   "outputs": [
    {
     "name": "stdout",
     "output_type": "stream",
     "text": [
      "   left  right\n",
      "0   0.0    0.0\n",
      "1   0.0    0.0\n",
      "2   0.0    0.0\n",
      "3   0.0    0.0\n",
      "4   0.0    0.0\n",
      "5   0.0    0.0\n",
      "\r",
      "o----T"
     ]
    },
    {
     "name": "stderr",
     "output_type": "stream",
     "text": [
      "/Users/wangyingbo/anaconda3/envs/tensorflow/lib/python3.7/site-packages/ipykernel_launcher.py:65: DeprecationWarning: \n",
      ".ix is deprecated. Please use\n",
      ".loc for label based indexing or\n",
      ".iloc for positional indexing\n",
      "\n",
      "See the documentation here:\n",
      "http://pandas.pydata.org/pandas-docs/stable/indexing.html#ix-indexer-is-deprecated\n",
      "/Users/wangyingbo/anaconda3/envs/tensorflow/lib/python3.7/site-packages/ipykernel_launcher.py:71: DeprecationWarning: \n",
      ".ix is deprecated. Please use\n",
      ".loc for label based indexing or\n",
      ".iloc for positional indexing\n",
      "\n",
      "See the documentation here:\n",
      "http://pandas.pydata.org/pandas-docs/stable/indexing.html#ix-indexer-is-deprecated\n"
     ]
    },
    {
     "name": "stdout",
     "output_type": "stream",
     "text": [
      "----oT"
     ]
    },
    {
     "ename": "UnboundLocalError",
     "evalue": "local variable 'interaction' referenced before assignment",
     "output_type": "error",
     "traceback": [
      "\u001b[0;31m---------------------------------------------------------------------------\u001b[0m",
      "\u001b[0;31mUnboundLocalError\u001b[0m                         Traceback (most recent call last)",
      "\u001b[0;32m<ipython-input-20-c820d385da3b>\u001b[0m in \u001b[0;36m<module>\u001b[0;34m\u001b[0m\n\u001b[1;32m     75\u001b[0m     \u001b[0;32mreturn\u001b[0m \u001b[0mq_table\u001b[0m\u001b[0;34m\u001b[0m\u001b[0;34m\u001b[0m\u001b[0m\n\u001b[1;32m     76\u001b[0m \u001b[0;32mif\u001b[0m \u001b[0m__name__\u001b[0m \u001b[0;34m==\u001b[0m \u001b[0;34m'__main__'\u001b[0m\u001b[0;34m:\u001b[0m\u001b[0;34m\u001b[0m\u001b[0;34m\u001b[0m\u001b[0m\n\u001b[0;32m---> 77\u001b[0;31m     \u001b[0mq_table\u001b[0m \u001b[0;34m=\u001b[0m \u001b[0mrun\u001b[0m\u001b[0;34m(\u001b[0m\u001b[0;34m)\u001b[0m\u001b[0;34m\u001b[0m\u001b[0;34m\u001b[0m\u001b[0m\n\u001b[0m\u001b[1;32m     78\u001b[0m     \u001b[0mprint\u001b[0m\u001b[0;34m(\u001b[0m\u001b[0;34m'\\r\\nQ-table:\\n'\u001b[0m\u001b[0;34m)\u001b[0m\u001b[0;34m\u001b[0m\u001b[0;34m\u001b[0m\u001b[0m\n\u001b[1;32m     79\u001b[0m     \u001b[0mprint\u001b[0m\u001b[0;34m(\u001b[0m\u001b[0mq_table\u001b[0m\u001b[0;34m)\u001b[0m\u001b[0;34m\u001b[0m\u001b[0;34m\u001b[0m\u001b[0m\n",
      "\u001b[0;32m<ipython-input-20-c820d385da3b>\u001b[0m in \u001b[0;36mrun\u001b[0;34m()\u001b[0m\n\u001b[1;32m     71\u001b[0m             \u001b[0mq_table\u001b[0m\u001b[0;34m.\u001b[0m\u001b[0mix\u001b[0m\u001b[0;34m[\u001b[0m\u001b[0mstate\u001b[0m\u001b[0;34m,\u001b[0m\u001b[0maction\u001b[0m\u001b[0;34m]\u001b[0m \u001b[0;34m+=\u001b[0m \u001b[0malpha\u001b[0m \u001b[0;34m*\u001b[0m\u001b[0;34m(\u001b[0m\u001b[0mq_target\u001b[0m \u001b[0;34m-\u001b[0m \u001b[0mq_predict\u001b[0m\u001b[0;34m)\u001b[0m \u001b[0;31m# update\u001b[0m\u001b[0;34m\u001b[0m\u001b[0;34m\u001b[0m\u001b[0m\n\u001b[1;32m     72\u001b[0m             \u001b[0mstate\u001b[0m \u001b[0;34m=\u001b[0m \u001b[0mnext_state\u001b[0m \u001b[0;31m# move to next state\u001b[0m\u001b[0;34m\u001b[0m\u001b[0;34m\u001b[0m\u001b[0m\n\u001b[0;32m---> 73\u001b[0;31m             \u001b[0mupdate_env\u001b[0m\u001b[0;34m(\u001b[0m\u001b[0mstate\u001b[0m\u001b[0;34m,\u001b[0m\u001b[0mepisode\u001b[0m\u001b[0;34m,\u001b[0m\u001b[0mstep_counter\u001b[0m\u001b[0;34m+\u001b[0m\u001b[0;36m1\u001b[0m\u001b[0;34m)\u001b[0m\u001b[0;34m\u001b[0m\u001b[0;34m\u001b[0m\u001b[0m\n\u001b[0m\u001b[1;32m     74\u001b[0m             \u001b[0mstep_counter\u001b[0m \u001b[0;34m+=\u001b[0m\u001b[0;36m1\u001b[0m\u001b[0;34m\u001b[0m\u001b[0;34m\u001b[0m\u001b[0m\n\u001b[1;32m     75\u001b[0m     \u001b[0;32mreturn\u001b[0m \u001b[0mq_table\u001b[0m\u001b[0;34m\u001b[0m\u001b[0;34m\u001b[0m\u001b[0m\n",
      "\u001b[0;32m<ipython-input-20-c820d385da3b>\u001b[0m in \u001b[0;36mupdate_env\u001b[0;34m(state, episode, step_counter)\u001b[0m\n\u001b[1;32m     45\u001b[0m     \u001b[0;32mif\u001b[0m \u001b[0mstate\u001b[0m \u001b[0;34m==\u001b[0m \u001b[0;34m'terminal'\u001b[0m\u001b[0;34m:\u001b[0m\u001b[0;34m\u001b[0m\u001b[0;34m\u001b[0m\u001b[0m\n\u001b[1;32m     46\u001b[0m         \u001b[0minteract\u001b[0m \u001b[0;34m=\u001b[0m \u001b[0;34m'Episode %s:total_steps = %s'\u001b[0m \u001b[0;34m%\u001b[0m\u001b[0;34m(\u001b[0m\u001b[0mepisode\u001b[0m\u001b[0;34m+\u001b[0m\u001b[0;36m1\u001b[0m\u001b[0;34m,\u001b[0m\u001b[0mstep_counter\u001b[0m\u001b[0;34m)\u001b[0m\u001b[0;34m\u001b[0m\u001b[0;34m\u001b[0m\u001b[0m\n\u001b[0;32m---> 47\u001b[0;31m         \u001b[0mprint\u001b[0m\u001b[0;34m(\u001b[0m\u001b[0;34m'\\r{}'\u001b[0m\u001b[0;34m.\u001b[0m\u001b[0mformat\u001b[0m\u001b[0;34m(\u001b[0m\u001b[0minteraction\u001b[0m\u001b[0;34m)\u001b[0m\u001b[0;34m,\u001b[0m\u001b[0mend\u001b[0m\u001b[0;34m=\u001b[0m\u001b[0;34m''\u001b[0m\u001b[0;34m)\u001b[0m\u001b[0;34m\u001b[0m\u001b[0;34m\u001b[0m\u001b[0m\n\u001b[0m\u001b[1;32m     48\u001b[0m         \u001b[0mtime\u001b[0m\u001b[0;34m.\u001b[0m\u001b[0msleep\u001b[0m\u001b[0;34m(\u001b[0m\u001b[0;36m2\u001b[0m\u001b[0;34m)\u001b[0m\u001b[0;34m\u001b[0m\u001b[0;34m\u001b[0m\u001b[0m\n\u001b[1;32m     49\u001b[0m         \u001b[0mprint\u001b[0m\u001b[0;34m(\u001b[0m\u001b[0;34m'\\r          '\u001b[0m\u001b[0;34m,\u001b[0m\u001b[0mend\u001b[0m \u001b[0;34m=\u001b[0m \u001b[0;34m''\u001b[0m\u001b[0;34m)\u001b[0m\u001b[0;34m\u001b[0m\u001b[0;34m\u001b[0m\u001b[0m\n",
      "\u001b[0;31mUnboundLocalError\u001b[0m: local variable 'interaction' referenced before assignment"
     ]
    }
   ],
   "source": [
    "np.random.seed(2) #reproduciable\n",
    "\n",
    "N_STATES = 6 # the length of the 1 dimensional world\n",
    "Action = ['left','right']  # available actions\n",
    "\n",
    "EPSILON = 0.9 # greed policy\n",
    "\n",
    "alpha = 0.1 #learning rate\n",
    "Lambda = 0.9 # dicount rate\n",
    "max_episodes = 100 # maximum episodes\n",
    "fresh_time = 0.3  # fresh time for one move\n",
    "\n",
    "def build_q_table(n_states,actions):\n",
    "    table = pd.DataFrame(np.zeros((n_states,len(actions))), #q_table initial values\n",
    "                        columns = actions)  #action' name)\n",
    "    print(table)\n",
    "    return table\n",
    "def choose_action(state,q_table):\n",
    "    # this is how to choose an action\n",
    "    state_actions = q_table.iloc[state,:]\n",
    "    if(np.random.uniform() > EPSILON ) or (state_actions.all() == 0): # act non-greedy or state-action\n",
    "        action_name = np.random.choice(Action)\n",
    "    else:\n",
    "        action_name = state_actions.argmax()\n",
    "    return action_name\n",
    "def get_env_feedback(state,action):\n",
    "    # this is how agent will interact with the environment\n",
    "    if action == 'right':  # move right\n",
    "        if state == N_STATES - 2:# terminate\n",
    "            next_state = 'terminal'\n",
    "            reward = 1\n",
    "        else:\n",
    "            next_state = state+1\n",
    "            reward = 0\n",
    "    else: #move left\n",
    "        reward = 0\n",
    "        if state == 0:\n",
    "            next_state = state  # reach the wall\n",
    "        else:\n",
    "            next_state = state - 1\n",
    "    return next_state,reward\n",
    "def update_env(state,episode,step_counter):\n",
    "    # this is how enviroment be updated\n",
    "    env_list = ['-'] * (N_STATES-1) + ['T'] # --------T our environment\n",
    "    if state == 'terminal':\n",
    "        interact = 'Episode %s:total_steps = %s' %(episode+1,step_counter)\n",
    "        print('\\r{}'.format(interaction),end='')\n",
    "        time.sleep(2)\n",
    "        print('\\r          ',end = '')\n",
    "    else:\n",
    "        env_list[state] = 'o'\n",
    "        interaction = ''.join(env_list)\n",
    "        print('\\r{}'.format(interaction),end='')\n",
    "        time.sleep(fresh_time)\n",
    "def run():\n",
    "    q_table = build_q_table(N_STATES,Action)\n",
    "    for episode in range(max_episodes):\n",
    "        step_counter = 0\n",
    "        state = 0\n",
    "        is_terminated = False\n",
    "        update_env(state,episode,step_counter)\n",
    "        while not is_terminated:\n",
    "            action = choose_action(state,q_table)\n",
    "            next_state,reward = get_env_feedback(state,action) # take action and get next action  and reward\n",
    "            q_predict = q_table.ix[state,action]\n",
    "            if next_state != 'terminal':\n",
    "                q_target = reward + Lambda * q_table.iloc[next_state,:].max() \n",
    "            else:\n",
    "                q_target = reward # next state is terminal\n",
    "                is_terminates = True\n",
    "            q_table.ix[state,action] += alpha *(q_target - q_predict) # update\n",
    "            state = next_state # move to next state\n",
    "            update_env(state,episode,step_counter+1)\n",
    "            step_counter +=1\n",
    "    return q_table\n",
    "if __name__ == '__main__':\n",
    "    q_table = run()\n",
    "    print('\\r\\nQ-table:\\n')\n",
    "    print(q_table)\n",
    "    "
   ]
  },
  {
   "cell_type": "code",
   "execution_count": null,
   "metadata": {},
   "outputs": [],
   "source": []
  }
 ],
 "metadata": {
  "kernelspec": {
   "display_name": "Python 3",
   "language": "python",
   "name": "python3"
  },
  "language_info": {
   "codemirror_mode": {
    "name": "ipython",
    "version": 3
   },
   "file_extension": ".py",
   "mimetype": "text/x-python",
   "name": "python",
   "nbconvert_exporter": "python",
   "pygments_lexer": "ipython3",
   "version": "3.7.3"
  }
 },
 "nbformat": 4,
 "nbformat_minor": 2
}
